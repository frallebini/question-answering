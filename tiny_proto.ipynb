{
 "cells": [
  {
   "cell_type": "markdown",
   "source": [
    "## 1. Data loading"
   ],
   "metadata": {
    "collapsed": false
   }
  },
  {
   "cell_type": "markdown",
   "source": [
    "### 1.1. Json to Dataframe"
   ],
   "metadata": {
    "collapsed": false
   }
  },
  {
   "cell_type": "code",
   "execution_count": 29,
   "metadata": {
    "collapsed": true
   },
   "outputs": [],
   "source": [
    "import pandas as pd\n",
    "import numpy as np\n",
    "import json\n",
    "from tqdm.notebook import tqdm as tqdm\n",
    "\n",
    "rs = 42  # Random state\n",
    "# hf_model_name = \"prajjwal1/bert-tiny\"\n",
    "hf_model_name = \"prajjwal1/bert-small\""
   ]
  },
  {
   "cell_type": "code",
   "execution_count": 30,
   "outputs": [
    {
     "data": {
      "text/plain": "                         id                     title  \\\n0  5733be284776f41900661182  University_of_Notre_Dame   \n1  5733be284776f4190066117f  University_of_Notre_Dame   \n2  5733be284776f41900661180  University_of_Notre_Dame   \n3  5733be284776f41900661181  University_of_Notre_Dame   \n4  5733be284776f4190066117e  University_of_Notre_Dame   \n\n                                             context  \\\n0  Architecturally, the school has a Catholic cha...   \n1  Architecturally, the school has a Catholic cha...   \n2  Architecturally, the school has a Catholic cha...   \n3  Architecturally, the school has a Catholic cha...   \n4  Architecturally, the school has a Catholic cha...   \n\n                                            question  \\\n0  To whom did the Virgin Mary allegedly appear i...   \n1  What is in front of the Notre Dame Main Building?   \n2  The Basilica of the Sacred heart at Notre Dame...   \n3                  What is the Grotto at Notre Dame?   \n4  What sits on top of the Main Building at Notre...   \n\n                               answer_text  answer_start  answer_end  \n0               Saint Bernadette Soubirous           515         541  \n1                a copper statue of Christ           188         213  \n2                        the Main Building           279         296  \n3  a Marian place of prayer and reflection           381         420  \n4       a golden statue of the Virgin Mary            92         126  ",
      "text/html": "<div>\n<style scoped>\n    .dataframe tbody tr th:only-of-type {\n        vertical-align: middle;\n    }\n\n    .dataframe tbody tr th {\n        vertical-align: top;\n    }\n\n    .dataframe thead th {\n        text-align: right;\n    }\n</style>\n<table border=\"1\" class=\"dataframe\">\n  <thead>\n    <tr style=\"text-align: right;\">\n      <th></th>\n      <th>id</th>\n      <th>title</th>\n      <th>context</th>\n      <th>question</th>\n      <th>answer_text</th>\n      <th>answer_start</th>\n      <th>answer_end</th>\n    </tr>\n  </thead>\n  <tbody>\n    <tr>\n      <th>0</th>\n      <td>5733be284776f41900661182</td>\n      <td>University_of_Notre_Dame</td>\n      <td>Architecturally, the school has a Catholic cha...</td>\n      <td>To whom did the Virgin Mary allegedly appear i...</td>\n      <td>Saint Bernadette Soubirous</td>\n      <td>515</td>\n      <td>541</td>\n    </tr>\n    <tr>\n      <th>1</th>\n      <td>5733be284776f4190066117f</td>\n      <td>University_of_Notre_Dame</td>\n      <td>Architecturally, the school has a Catholic cha...</td>\n      <td>What is in front of the Notre Dame Main Building?</td>\n      <td>a copper statue of Christ</td>\n      <td>188</td>\n      <td>213</td>\n    </tr>\n    <tr>\n      <th>2</th>\n      <td>5733be284776f41900661180</td>\n      <td>University_of_Notre_Dame</td>\n      <td>Architecturally, the school has a Catholic cha...</td>\n      <td>The Basilica of the Sacred heart at Notre Dame...</td>\n      <td>the Main Building</td>\n      <td>279</td>\n      <td>296</td>\n    </tr>\n    <tr>\n      <th>3</th>\n      <td>5733be284776f41900661181</td>\n      <td>University_of_Notre_Dame</td>\n      <td>Architecturally, the school has a Catholic cha...</td>\n      <td>What is the Grotto at Notre Dame?</td>\n      <td>a Marian place of prayer and reflection</td>\n      <td>381</td>\n      <td>420</td>\n    </tr>\n    <tr>\n      <th>4</th>\n      <td>5733be284776f4190066117e</td>\n      <td>University_of_Notre_Dame</td>\n      <td>Architecturally, the school has a Catholic cha...</td>\n      <td>What sits on top of the Main Building at Notre...</td>\n      <td>a golden statue of the Virgin Mary</td>\n      <td>92</td>\n      <td>126</td>\n    </tr>\n  </tbody>\n</table>\n</div>"
     },
     "execution_count": 30,
     "metadata": {},
     "output_type": "execute_result"
    }
   ],
   "source": [
    "# Read the raw json\n",
    "url = 'training_set.json'\n",
    "with open(url, 'r') as file:\n",
    "    raw = json.load(file)['data']\n",
    "data = []\n",
    "for topic in raw:\n",
    "    for paragraph in topic['paragraphs']:\n",
    "        for question in paragraph['qas']:\n",
    "            assert len(question['answers']) == 1\n",
    "            answer = question['answers'][0]\n",
    "            data.append((\n",
    "                question['id'],\n",
    "                topic['title'],\n",
    "                paragraph['context'],\n",
    "                question['question'],\n",
    "                answer['text'],\n",
    "                answer['answer_start'],\n",
    "                answer['answer_start'] + len(answer['text']),\n",
    "            ))\n",
    "dataset = pd.DataFrame(data,\n",
    "                       columns=('id', 'title', 'context', 'question', 'answer_text', 'answer_start', 'answer_end'))\n",
    "dataset.head()"
   ],
   "metadata": {
    "collapsed": false,
    "pycharm": {
     "name": "#%%\n"
    }
   }
  },
  {
   "cell_type": "code",
   "execution_count": 31,
   "outputs": [
    {
     "name": "stdout",
     "output_type": "stream",
     "text": [
      "<class 'pandas.core.frame.DataFrame'>\n",
      "RangeIndex: 87599 entries, 0 to 87598\n",
      "Data columns (total 7 columns):\n",
      " #   Column        Non-Null Count  Dtype \n",
      "---  ------        --------------  ----- \n",
      " 0   id            87599 non-null  string\n",
      " 1   title         87599 non-null  string\n",
      " 2   context       87599 non-null  string\n",
      " 3   question      87599 non-null  string\n",
      " 4   answer_text   87599 non-null  string\n",
      " 5   answer_start  87599 non-null  Int64 \n",
      " 6   answer_end    87599 non-null  Int64 \n",
      "dtypes: Int64(2), string(5)\n",
      "memory usage: 4.8 MB\n"
     ]
    }
   ],
   "source": [
    "dataset: pd.DataFrame = dataset.apply(pd.to_numeric, errors='ignore').convert_dtypes()\n",
    "# NODE: stripping makes the test in the next cell fail\n",
    "# dataset['context'] = dataset['context'].str.strip()\n",
    "# dataset['question'] = dataset['question'].str.strip()\n",
    "dataset.info()"
   ],
   "metadata": {
    "collapsed": false,
    "pycharm": {
     "name": "#%%\n"
    }
   }
  },
  {
   "cell_type": "code",
   "execution_count": 32,
   "outputs": [
    {
     "name": "stdout",
     "output_type": "stream",
     "text": [
      "OK: answer-text == context[start:end]\n"
     ]
    }
   ],
   "source": [
    "# Simple tests\n",
    "for _, q in dataset.iterrows():\n",
    "    assert q['answer_text'] == q['context'][q['answer_start']:q['answer_end']]\n",
    "print(\"OK: answer-text == context[start:end]\")"
   ],
   "metadata": {
    "collapsed": false,
    "pycharm": {
     "name": "#%%\n"
    }
   }
  },
  {
   "cell_type": "markdown",
   "source": [
    "### 1.2. Data exploration"
   ],
   "metadata": {
    "collapsed": false
   }
  },
  {
   "cell_type": "code",
   "execution_count": 33,
   "outputs": [
    {
     "name": "stdout",
     "output_type": "stream",
     "text": [
      "99% percentile of context word count: 282\n"
     ]
    },
    {
     "data": {
      "text/plain": "<Figure size 432x288 with 1 Axes>",
      "image/png": "[encoded data removed]"
     },
     "metadata": {
      "needs_background": "light"
     },
     "output_type": "display_data"
    }
   ],
   "source": [
    "import seaborn as sns\n",
    "\n",
    "sentence_lengths = pd.DataFrame(\n",
    "    dataset[['context', 'question']].applymap(str.split).applymap(len).to_numpy(),\n",
    "    columns=['context_word_count', 'question_word_count'],\n",
    ")\n",
    "quantile99 = int(np.quantile(sentence_lengths['context_word_count'], 0.99))\n",
    "\n",
    "ax = sns.histplot(sentence_lengths)\n",
    "ax.axvline(x=quantile99, color='b')\n",
    "print(f\"99% percentile of context word count: {quantile99}\")\n",
    "# Note: after tokenization the numbers may differ but not dramatically"
   ],
   "metadata": {
    "collapsed": false,
    "pycharm": {
     "name": "#%%\n"
    }
   }
  },
  {
   "cell_type": "markdown",
   "source": [
    "### 1.3. Tokenization"
   ],
   "metadata": {
    "collapsed": false
   }
  },
  {
   "cell_type": "code",
   "execution_count": 34,
   "outputs": [],
   "source": [
    "from transformers import AutoModel\n",
    "import torch\n",
    "from transformers import AutoTokenizer, PreTrainedTokenizerFast\n",
    "\n",
    "tokenizer: PreTrainedTokenizerFast = AutoTokenizer.from_pretrained(hf_model_name)"
   ],
   "metadata": {
    "collapsed": false,
    "pycharm": {
     "name": "#%%\n"
    }
   }
  },
  {
   "cell_type": "code",
   "execution_count": 35,
   "outputs": [
    {
     "name": "stdout",
     "output_type": "stream",
     "text": [
      "Test sequence\n",
      "[CLS] test sequence [SEP]\n"
     ]
    }
   ],
   "source": [
    "s = \"Test sequence\"\n",
    "t = tokenizer(\"Test sequence\")\n",
    "print(s)\n",
    "print(tokenizer.decode(t['input_ids']))"
   ],
   "metadata": {
    "collapsed": false,
    "pycharm": {
     "name": "#%%\n"
    }
   }
  },
  {
   "cell_type": "code",
   "execution_count": 36,
   "outputs": [
    {
     "data": {
      "text/plain": "  0%|          | 0/87599 [00:00<?, ?it/s]",
      "application/vnd.jupyter.widget-view+json": {
       "version_major": 2,
       "version_minor": 0,
       "model_id": "67b4be911a0c415ba3a332428a027421"
      }
     },
     "metadata": {},
     "output_type": "display_data"
    },
    {
     "name": "stdout",
     "output_type": "stream",
     "text": [
      "Answers not found: 171\n"
     ]
    }
   ],
   "source": [
    "# Tokenize the context and questions\n",
    "tok = []\n",
    "log_answers_not_found = 0\n",
    "\n",
    "for _, row in tqdm(dataset.iterrows(), total=dataset.shape[0]):\n",
    "    # Truncated tokenizer\n",
    "    # t = tokenizer(\n",
    "    #     row['question'],\n",
    "    #     row['context'],\n",
    "    #     max_length=quantile99,\n",
    "    #     truncation=True,\n",
    "    #     padding=\"max_length\",\n",
    "    #     return_offsets_mapping=True,\n",
    "    # )\n",
    "    # Standard tokenizer\n",
    "    t = tokenizer(\n",
    "        row['question'],\n",
    "        row['context'],\n",
    "        max_length=512,\n",
    "        truncation='only_second',\n",
    "        padding='max_length',\n",
    "        return_offsets_mapping=True,\n",
    "    )\n",
    "\n",
    "    offset_mapping = np.array(t['offset_mapping'])\n",
    "    token_type_ids = np.array(t['token_type_ids'])\n",
    "\n",
    "    # Get where the answer is located, by looking at tokens that satisfy:\n",
    "    #  - they start after the answer\n",
    "    #  - they end before the answer\n",
    "    #  - they are part of the context\n",
    "    answer_context = (\n",
    "            (offset_mapping[:, 0] >= row['answer_start']) *\n",
    "            (offset_mapping[:, 1] <= row['answer_end']) *\n",
    "            token_type_ids.astype(bool)\n",
    "    )\n",
    "\n",
    "    # Note: for now truncation is not handled\n",
    "    # Debug printing\n",
    "    # print(row['answer_text'])\n",
    "    # print(tokenizer.decode(np.array(t['input_ids'])[answer_context]))\n",
    "    # print(answer_context)\n",
    "\n",
    "    # Get the first and last index of the answer context\n",
    "    answer_tok_idx = np.argwhere(answer_context).ravel()\n",
    "    isp = iep = 0\n",
    "    if answer_tok_idx.size == 0:\n",
    "        log_answers_not_found += 1\n",
    "    else:\n",
    "        isp = answer_tok_idx[0]\n",
    "        iep = answer_tok_idx[-1]\n",
    "        assert isp <= iep\n",
    "\n",
    "    tok.append({\n",
    "        'input_ids': torch.tensor(t['input_ids']),\n",
    "        'token_type_ids': torch.tensor(token_type_ids),\n",
    "        'attention_mask': torch.tensor(t['attention_mask']),\n",
    "        'start_positions': torch.tensor(isp),\n",
    "        'end_positions': torch.tensor(iep),\n",
    "        'offset_mapping': offset_mapping,\n",
    "    })\n",
    "\n",
    "print(f\"Answers not found: {log_answers_not_found}\")\n",
    "# To handle this, we need to do handle larger inputs by slicing or ignore it"
   ],
   "metadata": {
    "collapsed": false,
    "pycharm": {
     "name": "#%%\n"
    }
   }
  },
  {
   "cell_type": "code",
   "execution_count": 37,
   "outputs": [
    {
     "data": {
      "text/plain": "                         id                     title  \\\n0  5733be284776f41900661182  University_of_Notre_Dame   \n1  5733be284776f4190066117f  University_of_Notre_Dame   \n2  5733be284776f41900661180  University_of_Notre_Dame   \n3  5733be284776f41900661181  University_of_Notre_Dame   \n4  5733be284776f4190066117e  University_of_Notre_Dame   \n\n                                             context  \\\n0  Architecturally, the school has a Catholic cha...   \n1  Architecturally, the school has a Catholic cha...   \n2  Architecturally, the school has a Catholic cha...   \n3  Architecturally, the school has a Catholic cha...   \n4  Architecturally, the school has a Catholic cha...   \n\n                                            question  \\\n0  To whom did the Virgin Mary allegedly appear i...   \n1  What is in front of the Notre Dame Main Building?   \n2  The Basilica of the Sacred heart at Notre Dame...   \n3                  What is the Grotto at Notre Dame?   \n4  What sits on top of the Main Building at Notre...   \n\n                               answer_text  answer_start  answer_end  \\\n0               Saint Bernadette Soubirous           515         541   \n1                a copper statue of Christ           188         213   \n2                        the Main Building           279         296   \n3  a Marian place of prayer and reflection           381         420   \n4       a golden statue of the Virgin Mary            92         126   \n\n                                           input_ids  \\\n0  [tensor(101), tensor(2000), tensor(3183), tens...   \n1  [tensor(101), tensor(2054), tensor(2003), tens...   \n2  [tensor(101), tensor(1996), tensor(13546), ten...   \n3  [tensor(101), tensor(2054), tensor(2003), tens...   \n4  [tensor(101), tensor(2054), tensor(7719), tens...   \n\n                                      token_type_ids  \\\n0  [tensor(0, dtype=torch.int32), tensor(0, dtype...   \n1  [tensor(0, dtype=torch.int32), tensor(0, dtype...   \n2  [tensor(0, dtype=torch.int32), tensor(0, dtype...   \n3  [tensor(0, dtype=torch.int32), tensor(0, dtype...   \n4  [tensor(0, dtype=torch.int32), tensor(0, dtype...   \n\n                                      attention_mask start_positions  \\\n0  [tensor(1), tensor(1), tensor(1), tensor(1), t...     tensor(130)   \n1  [tensor(1), tensor(1), tensor(1), tensor(1), t...      tensor(52)   \n2  [tensor(1), tensor(1), tensor(1), tensor(1), t...      tensor(81)   \n3  [tensor(1), tensor(1), tensor(1), tensor(1), t...      tensor(95)   \n4  [tensor(1), tensor(1), tensor(1), tensor(1), t...      tensor(33)   \n\n  end_positions                                     offset_mapping  \n0   tensor(137)  [[0, 0], [0, 2], [3, 7], [8, 11], [12, 15], [1...  \n1    tensor(56)  [[0, 0], [0, 4], [5, 7], [8, 10], [11, 16], [1...  \n2    tensor(83)  [[0, 0], [0, 3], [4, 12], [13, 15], [16, 19], ...  \n3   tensor(101)  [[0, 0], [0, 4], [5, 7], [8, 11], [12, 14], [1...  \n4    tensor(39)  [[0, 0], [0, 4], [5, 9], [10, 12], [13, 16], [...  ",
      "text/html": "<div>\n<style scoped>\n    .dataframe tbody tr th:only-of-type {\n        vertical-align: middle;\n    }\n\n    .dataframe tbody tr th {\n        vertical-align: top;\n    }\n\n    .dataframe thead th {\n        text-align: right;\n    }\n</style>\n<table border=\"1\" class=\"dataframe\">\n  <thead>\n    <tr style=\"text-align: right;\">\n      <th></th>\n      <th>id</th>\n      <th>title</th>\n      <th>context</th>\n      <th>question</th>\n      <th>answer_text</th>\n      <th>answer_start</th>\n      <th>answer_end</th>\n      <th>input_ids</th>\n      <th>token_type_ids</th>\n      <th>attention_mask</th>\n      <th>start_positions</th>\n      <th>end_positions</th>\n      <th>offset_mapping</th>\n    </tr>\n  </thead>\n  <tbody>\n    <tr>\n      <th>0</th>\n      <td>5733be284776f41900661182</td>\n      <td>University_of_Notre_Dame</td>\n      <td>Architecturally, the school has a Catholic cha...</td>\n      <td>To whom did the Virgin Mary allegedly appear i...</td>\n      <td>Saint Bernadette Soubirous</td>\n      <td>515</td>\n      <td>541</td>\n      <td>[tensor(101), tensor(2000), tensor(3183), tens...</td>\n      <td>[tensor(0, dtype=torch.int32), tensor(0, dtype...</td>\n      <td>[tensor(1), tensor(1), tensor(1), tensor(1), t...</td>\n      <td>tensor(130)</td>\n      <td>tensor(137)</td>\n      <td>[[0, 0], [0, 2], [3, 7], [8, 11], [12, 15], [1...</td>\n    </tr>\n    <tr>\n      <th>1</th>\n      <td>5733be284776f4190066117f</td>\n      <td>University_of_Notre_Dame</td>\n      <td>Architecturally, the school has a Catholic cha...</td>\n      <td>What is in front of the Notre Dame Main Building?</td>\n      <td>a copper statue of Christ</td>\n      <td>188</td>\n      <td>213</td>\n      <td>[tensor(101), tensor(2054), tensor(2003), tens...</td>\n      <td>[tensor(0, dtype=torch.int32), tensor(0, dtype...</td>\n      <td>[tensor(1), tensor(1), tensor(1), tensor(1), t...</td>\n      <td>tensor(52)</td>\n      <td>tensor(56)</td>\n      <td>[[0, 0], [0, 4], [5, 7], [8, 10], [11, 16], [1...</td>\n    </tr>\n    <tr>\n      <th>2</th>\n      <td>5733be284776f41900661180</td>\n      <td>University_of_Notre_Dame</td>\n      <td>Architecturally, the school has a Catholic cha...</td>\n      <td>The Basilica of the Sacred heart at Notre Dame...</td>\n      <td>the Main Building</td>\n      <td>279</td>\n      <td>296</td>\n      <td>[tensor(101), tensor(1996), tensor(13546), ten...</td>\n      <td>[tensor(0, dtype=torch.int32), tensor(0, dtype...</td>\n      <td>[tensor(1), tensor(1), tensor(1), tensor(1), t...</td>\n      <td>tensor(81)</td>\n      <td>tensor(83)</td>\n      <td>[[0, 0], [0, 3], [4, 12], [13, 15], [16, 19], ...</td>\n    </tr>\n    <tr>\n      <th>3</th>\n      <td>5733be284776f41900661181</td>\n      <td>University_of_Notre_Dame</td>\n      <td>Architecturally, the school has a Catholic cha...</td>\n      <td>What is the Grotto at Notre Dame?</td>\n      <td>a Marian place of prayer and reflection</td>\n      <td>381</td>\n      <td>420</td>\n      <td>[tensor(101), tensor(2054), tensor(2003), tens...</td>\n      <td>[tensor(0, dtype=torch.int32), tensor(0, dtype...</td>\n      <td>[tensor(1), tensor(1), tensor(1), tensor(1), t...</td>\n      <td>tensor(95)</td>\n      <td>tensor(101)</td>\n      <td>[[0, 0], [0, 4], [5, 7], [8, 11], [12, 14], [1...</td>\n    </tr>\n    <tr>\n      <th>4</th>\n      <td>5733be284776f4190066117e</td>\n      <td>University_of_Notre_Dame</td>\n      <td>Architecturally, the school has a Catholic cha...</td>\n      <td>What sits on top of the Main Building at Notre...</td>\n      <td>a golden statue of the Virgin Mary</td>\n      <td>92</td>\n      <td>126</td>\n      <td>[tensor(101), tensor(2054), tensor(7719), tens...</td>\n      <td>[tensor(0, dtype=torch.int32), tensor(0, dtype...</td>\n      <td>[tensor(1), tensor(1), tensor(1), tensor(1), t...</td>\n      <td>tensor(33)</td>\n      <td>tensor(39)</td>\n      <td>[[0, 0], [0, 4], [5, 9], [10, 12], [13, 16], [...</td>\n    </tr>\n  </tbody>\n</table>\n</div>"
     },
     "execution_count": 37,
     "metadata": {},
     "output_type": "execute_result"
    }
   ],
   "source": [
    "tokenized_dataset = pd.concat((dataset, pd.DataFrame(tok)), axis=1)\n",
    "tokenized_dataset.head()"
   ],
   "metadata": {
    "collapsed": false,
    "pycharm": {
     "name": "#%%\n"
    }
   }
  },
  {
   "cell_type": "code",
   "execution_count": 38,
   "outputs": [
    {
     "name": "stdout",
     "output_type": "stream",
     "text": [
      "To whom did the Virgin Mary allegedly appear in 1858 in Lourdes France?Architecturally, the school has a Catholic character. Atop the Main Building's gold dome is a golden statue of the Virgin Mary. Immediately in front of the Main Building and facing it, is a copper statue of Christ with arms upraised with the legend \"Venite Ad Me Omnes\". Next to the Main Building is the Basilica of the Sacred Heart. Immediately behind the basilica is the Grotto, a Marian place of prayer and reflection. It is a replica of the grotto at Lourdes, France where the Virgin Mary reputedly appeared to Saint Bernadette Soubirous in 1858. At the end of the main drive (and in a direct line that connects through 3 statues and the Gold Dome), is a simple, modern stone statue of Mary.\n",
      "\n",
      "[CLS] to whom did the virgin mary allegedly appear in 1858 in lourdes france? [SEP] architecturally, the school has a catholic character. atop the main building's gold dome is a golden statue of the virgin mary. immediately in front of the main building and facing it, is a copper statue of christ with arms upraised with the legend \" venite ad me omnes \". next to the main building is the basilica of the sacred heart. immediately behind the basilica is the grotto, a marian place of prayer and reflection. it is a replica of the grotto at lourdes, france where the virgin mary reputedly appeared to saint bernadette soubirous in 1858. at the end of the main drive ( and in a direct line that connects through 3 statues and the gold dome ), is a simple, modern stone statue of mary. [SEP] [PAD] [PAD] [PAD] [PAD] [PAD] [PAD] [PAD] [PAD] [PAD] [PAD] [PAD] [PAD] [PAD] [PAD] [PAD] [PAD] [PAD] [PAD] [PAD] [PAD] [PAD] [PAD] [PAD] [PAD] [PAD] [PAD] [PAD] [PAD] [PAD] [PAD] [PAD] [PAD] [PAD] [PAD] [PAD] [PAD] [PAD] [PAD] [PAD] [PAD] [PAD] [PAD] [PAD] [PAD] [PAD] [PAD] [PAD] [PAD] [PAD] [PAD] [PAD] [PAD] [PAD] [PAD] [PAD] [PAD] [PAD] [PAD] [PAD] [PAD] [PAD] [PAD] [PAD] [PAD] [PAD] [PAD] [PAD] [PAD] [PAD] [PAD] [PAD] [PAD] [PAD] [PAD] [PAD] [PAD] [PAD] [PAD] [PAD] [PAD] [PAD] [PAD] [PAD] [PAD] [PAD] [PAD] [PAD] [PAD] [PAD] [PAD] [PAD] [PAD] [PAD] [PAD] [PAD] [PAD] [PAD] [PAD] [PAD] [PAD] [PAD] [PAD] [PAD] [PAD] [PAD] [PAD] [PAD] [PAD] [PAD] [PAD] [PAD] [PAD] [PAD] [PAD] [PAD] [PAD] [PAD] [PAD] [PAD] [PAD] [PAD] [PAD] [PAD] [PAD] [PAD] [PAD] [PAD] [PAD] [PAD] [PAD] [PAD] [PAD] [PAD] [PAD] [PAD] [PAD] [PAD] [PAD] [PAD] [PAD] [PAD] [PAD] [PAD] [PAD] [PAD] [PAD] [PAD] [PAD] [PAD] [PAD] [PAD] [PAD] [PAD] [PAD] [PAD] [PAD] [PAD] [PAD] [PAD] [PAD] [PAD] [PAD] [PAD] [PAD] [PAD] [PAD] [PAD] [PAD] [PAD] [PAD] [PAD] [PAD] [PAD] [PAD] [PAD] [PAD] [PAD] [PAD] [PAD] [PAD] [PAD] [PAD] [PAD] [PAD] [PAD] [PAD] [PAD] [PAD] [PAD] [PAD] [PAD] [PAD] [PAD] [PAD] [PAD] [PAD] [PAD] [PAD] [PAD] [PAD] [PAD] [PAD] [PAD] [PAD] [PAD] [PAD] [PAD] [PAD] [PAD] [PAD] [PAD] [PAD] [PAD] [PAD] [PAD] [PAD] [PAD] [PAD] [PAD] [PAD] [PAD] [PAD] [PAD] [PAD] [PAD] [PAD] [PAD] [PAD] [PAD] [PAD] [PAD] [PAD] [PAD] [PAD] [PAD] [PAD] [PAD] [PAD] [PAD] [PAD] [PAD] [PAD] [PAD] [PAD] [PAD] [PAD] [PAD] [PAD] [PAD] [PAD] [PAD] [PAD] [PAD] [PAD] [PAD] [PAD] [PAD] [PAD] [PAD] [PAD] [PAD] [PAD] [PAD] [PAD] [PAD] [PAD] [PAD] [PAD] [PAD] [PAD] [PAD] [PAD] [PAD] [PAD] [PAD] [PAD] [PAD] [PAD] [PAD] [PAD] [PAD] [PAD] [PAD] [PAD] [PAD] [PAD] [PAD] [PAD] [PAD] [PAD] [PAD] [PAD] [PAD] [PAD] [PAD] [PAD] [PAD] [PAD] [PAD] [PAD] [PAD] [PAD] [PAD] [PAD] [PAD] [PAD] [PAD] [PAD] [PAD] [PAD] [PAD] [PAD] [PAD] [PAD] [PAD] [PAD] [PAD] [PAD] [PAD] [PAD] [PAD] [PAD] [PAD] [PAD] [PAD] [PAD] [PAD] [PAD] [PAD] [PAD] [PAD] [PAD] [PAD] [PAD] [PAD] [PAD]\n"
     ]
    }
   ],
   "source": [
    "# Test how the questions+context are tokenized and decoded\n",
    "q = tokenized_dataset.iloc[0]\n",
    "s = q['question'] + q['context']\n",
    "t = q['input_ids']\n",
    "print(s)\n",
    "print()\n",
    "print(tokenizer.decode(t))"
   ],
   "metadata": {
    "collapsed": false,
    "pycharm": {
     "name": "#%%\n"
    }
   }
  },
  {
   "cell_type": "markdown",
   "source": [
    "### 1.4. Train-Val split"
   ],
   "metadata": {
    "collapsed": false
   }
  },
  {
   "cell_type": "code",
   "execution_count": 39,
   "outputs": [
    {
     "name": "stdout",
     "output_type": "stream",
     "text": [
      "Training samples: 65699\n",
      "Validation samples: 21900\n",
      "Actual fraction: 0.75\n"
     ]
    }
   ],
   "source": [
    "train_fraction = 0.75\n",
    "ds_train = tokenized_dataset.sample(frac=train_fraction, random_state=rs)\n",
    "ds_val = tokenized_dataset.drop(ds_train.index)\n",
    "\n",
    "print(f\"Training samples: {len(ds_train)}\")\n",
    "print(f\"Validation samples: {len(ds_val)}\")\n",
    "print(f\"Actual fraction: {len(ds_train) / len(tokenized_dataset):.2f}\")\n",
    "\n",
    "del tokenized_dataset\n",
    "del dataset\n",
    "del tok"
   ],
   "metadata": {
    "collapsed": false,
    "pycharm": {
     "name": "#%%\n"
    }
   }
  },
  {
   "cell_type": "code",
   "execution_count": 40,
   "outputs": [
    {
     "data": {
      "text/plain": "9983     512\n43267    512\n81021    512\n49374    512\n53414    512\n        ... \n13133    512\n53830    512\n32956    512\n47062    512\n62678    512\nName: input_ids, Length: 65699, dtype: int64"
     },
     "execution_count": 40,
     "metadata": {},
     "output_type": "execute_result"
    }
   ],
   "source": [
    "ds_train['input_ids'].apply(len)"
   ],
   "metadata": {
    "collapsed": false,
    "pycharm": {
     "name": "#%%\n"
    }
   }
  },
  {
   "cell_type": "markdown",
   "source": [
    "## 2. Training the model\n",
    "### 2.1. Loading the model\n",
    "[docs](https://huggingface.co/docs/transformers/model_doc/bert#transformers.BertForQuestionAnswering)"
   ],
   "metadata": {
    "collapsed": false
   }
  },
  {
   "cell_type": "code",
   "execution_count": 41,
   "outputs": [
    {
     "data": {
      "text/plain": "Downloading:   0%|          | 0.00/111M [00:00<?, ?B/s]",
      "application/vnd.jupyter.widget-view+json": {
       "version_major": 2,
       "version_minor": 0,
       "model_id": "4e3ba64d57a04ca496ff3bb9e9983d1a"
      }
     },
     "metadata": {},
     "output_type": "display_data"
    },
    {
     "name": "stderr",
     "output_type": "stream",
     "text": [
      "Some weights of the model checkpoint at prajjwal1/bert-small were not used when initializing BertForQuestionAnswering: ['cls.predictions.bias', 'cls.predictions.decoder.bias', 'cls.predictions.transform.dense.weight', 'cls.predictions.decoder.weight', 'cls.seq_relationship.weight', 'cls.predictions.transform.dense.bias', 'cls.predictions.transform.LayerNorm.weight', 'cls.seq_relationship.bias', 'cls.predictions.transform.LayerNorm.bias']\n",
      "- This IS expected if you are initializing BertForQuestionAnswering from the checkpoint of a model trained on another task or with another architecture (e.g. initializing a BertForSequenceClassification model from a BertForPreTraining model).\n",
      "- This IS NOT expected if you are initializing BertForQuestionAnswering from the checkpoint of a model that you expect to be exactly identical (initializing a BertForSequenceClassification model from a BertForSequenceClassification model).\n",
      "Some weights of BertForQuestionAnswering were not initialized from the model checkpoint at prajjwal1/bert-small and are newly initialized: ['qa_outputs.weight', 'qa_outputs.bias']\n",
      "You should probably TRAIN this model on a down-stream task to be able to use it for predictions and inference.\n"
     ]
    }
   ],
   "source": [
    "from transformers import BertForQuestionAnswering\n",
    "from torchinfo import torchinfo\n",
    "\n",
    "model: BertForQuestionAnswering = BertForQuestionAnswering.from_pretrained(hf_model_name)"
   ],
   "metadata": {
    "collapsed": false,
    "pycharm": {
     "name": "#%%\n"
    }
   }
  },
  {
   "cell_type": "code",
   "execution_count": 42,
   "outputs": [
    {
     "data": {
      "text/plain": "================================================================================\nLayer (type:depth-idx)                                  Param #\n================================================================================\nBertForQuestionAnswering                                --\n├─BertModel: 1-1                                        --\n│    └─BertEmbeddings: 2-1                              --\n│    │    └─Embedding: 3-1                              15,627,264\n│    │    └─Embedding: 3-2                              262,144\n│    │    └─Embedding: 3-3                              1,024\n│    │    └─LayerNorm: 3-4                              1,024\n│    │    └─Dropout: 3-5                                --\n│    └─BertEncoder: 2-2                                 --\n│    │    └─ModuleList: 3-6                             12,609,536\n├─Linear: 1-2                                           1,026\n================================================================================\nTotal params: 28,502,018\nTrainable params: 28,502,018\nNon-trainable params: 0\n================================================================================"
     },
     "execution_count": 42,
     "metadata": {},
     "output_type": "execute_result"
    }
   ],
   "source": [
    "torchinfo.summary(model)"
   ],
   "metadata": {
    "collapsed": false,
    "pycharm": {
     "name": "#%%\n"
    }
   }
  },
  {
   "cell_type": "markdown",
   "source": [],
   "metadata": {
    "collapsed": false
   }
  },
  {
   "cell_type": "markdown",
   "source": [
    "### 2.2. Training loop"
   ],
   "metadata": {
    "collapsed": false
   }
  },
  {
   "cell_type": "code",
   "execution_count": 43,
   "outputs": [],
   "source": [
    "from torch.utils.data import DataLoader, TensorDataset, Dataset\n",
    "\n",
    "\n",
    "class QADataset(Dataset):\n",
    "    def __init__(self, df: pd.DataFrame):\n",
    "        self.df = df\n",
    "\n",
    "    def __len__(self):\n",
    "        return len(self.df)\n",
    "\n",
    "    def __getitem__(self, idx):\n",
    "        item = self.df.iloc[idx]\n",
    "        return {\n",
    "            'input_ids': item['input_ids'],\n",
    "            'token_type_ids': item['token_type_ids'],\n",
    "            'attention_mask': item['attention_mask'],\n",
    "            'start_positions': item['start_positions'],\n",
    "            'end_positions': item['end_positions']\n",
    "        }\n",
    "\n",
    "\n",
    "batch_size = 16\n",
    "epochs = 5\n",
    "\n",
    "device = torch.device('cuda') if torch.cuda.is_available() else torch.device('cpu')\n",
    "model.to(device)\n",
    "train_loader = DataLoader(QADataset(ds_train), batch_size=batch_size, shuffle=True)\n",
    "opt = torch.optim.Adam(model.parameters(), lr=5e-5)\n",
    "# opt = torch.optim.AdamW(model.parameters(), lr=5e-5)"
   ],
   "metadata": {
    "collapsed": false,
    "pycharm": {
     "name": "#%%\n"
    }
   }
  },
  {
   "cell_type": "code",
   "execution_count": 44,
   "outputs": [],
   "source": [
    "def n_correct(pred: torch.Tensor, true: torch.Tensor) -> float:\n",
    "    assert len(pred) == len(true)\n",
    "    return (pred == true).sum().item()"
   ],
   "metadata": {
    "collapsed": false,
    "pycharm": {
     "name": "#%%\n"
    }
   }
  },
  {
   "cell_type": "code",
   "execution_count": 45,
   "outputs": [
    {
     "data": {
      "text/plain": "Epoch 1:   0%|          | 0/4107 [00:00<?, ?it/s]",
      "application/vnd.jupyter.widget-view+json": {
       "version_major": 2,
       "version_minor": 0,
       "model_id": "8e8b0d419b5642baad6738eec4243974"
      }
     },
     "metadata": {},
     "output_type": "display_data"
    },
    {
     "data": {
      "text/plain": "Epoch 2:   0%|          | 0/4107 [00:00<?, ?it/s]",
      "application/vnd.jupyter.widget-view+json": {
       "version_major": 2,
       "version_minor": 0,
       "model_id": "6c5919c8a4f84745a35f57e3175bb7af"
      }
     },
     "metadata": {},
     "output_type": "display_data"
    },
    {
     "data": {
      "text/plain": "Epoch 3:   0%|          | 0/4107 [00:00<?, ?it/s]",
      "application/vnd.jupyter.widget-view+json": {
       "version_major": 2,
       "version_minor": 0,
       "model_id": "2fbf30ce53d740459202f30733d059a9"
      }
     },
     "metadata": {},
     "output_type": "display_data"
    },
    {
     "data": {
      "text/plain": "Epoch 4:   0%|          | 0/4107 [00:00<?, ?it/s]",
      "application/vnd.jupyter.widget-view+json": {
       "version_major": 2,
       "version_minor": 0,
       "model_id": "213c1fc8ac834d709a2e394f8873d188"
      }
     },
     "metadata": {},
     "output_type": "display_data"
    },
    {
     "data": {
      "text/plain": "Epoch 5:   0%|          | 0/4107 [00:00<?, ?it/s]",
      "application/vnd.jupyter.widget-view+json": {
       "version_major": 2,
       "version_minor": 0,
       "model_id": "28ce4db815154dde82ccec2912474018"
      }
     },
     "metadata": {},
     "output_type": "display_data"
    }
   ],
   "source": [
    "torch.cuda.empty_cache()\n",
    "model.train()\n",
    "\n",
    "history_loss = []\n",
    "history_acc = []\n",
    "\n",
    "for epoch in range(1, epochs + 1):\n",
    "    # Epoch history\n",
    "    ep_loss = []\n",
    "    ep_acc = []\n",
    "\n",
    "    train_iter = tqdm(train_loader, desc=f'Epoch {epoch}', leave=True)\n",
    "\n",
    "    for train_batch in train_iter:\n",
    "        input_ids = train_batch['input_ids'].to(device)\n",
    "        attention_mask = train_batch['attention_mask'].to(device)\n",
    "        start_true = train_batch['start_positions'].to(device)\n",
    "        end_true = train_batch['end_positions'].to(device)\n",
    "        token_type_ids = train_batch['token_type_ids'].to(device)\n",
    "\n",
    "        opt.zero_grad()\n",
    "        outputs = model(\n",
    "            input_ids=input_ids,\n",
    "            attention_mask=attention_mask,\n",
    "            token_type_ids=token_type_ids,\n",
    "            start_positions=start_true,\n",
    "            end_positions=end_true,\n",
    "        )\n",
    "\n",
    "        start_pred = torch.argmax(outputs['start_logits'], dim=1)\n",
    "        end_pred = torch.argmax(outputs['end_logits'], dim=1)\n",
    "        loss = outputs['loss']\n",
    "\n",
    "        n_samples = len(start_true)\n",
    "        n_correct_start = n_correct(start_pred, start_true)\n",
    "        n_correct_end = n_correct(end_pred, end_true)\n",
    "        n_correct_avg = (n_correct_start + n_correct_end) / 2\n",
    "\n",
    "        ep_loss.append(loss.item())\n",
    "        ep_acc.append(n_correct_avg / n_samples)\n",
    "\n",
    "        train_iter.set_postfix(loss=sum(ep_loss[-50:]) / len(ep_loss[-50:]),\n",
    "                               acc=sum(ep_acc[-50:]) / len(ep_acc[-50:]))\n",
    "\n",
    "        loss.backward()\n",
    "        opt.step()\n",
    "\n",
    "    # End of epoch\n",
    "    train_iter.close()\n",
    "    history_loss.append(sum(ep_loss) / len(ep_loss))\n",
    "    history_acc.append(sum(ep_acc) / len(ep_acc))"
   ],
   "metadata": {
    "collapsed": false,
    "pycharm": {
     "name": "#%%\n"
    }
   }
  },
  {
   "cell_type": "code",
   "execution_count": 46,
   "outputs": [
    {
     "name": "stdout",
     "output_type": "stream",
     "text": [
      "Model saved in ./models/smallbert_0128.pt\n"
     ]
    }
   ],
   "source": [
    "from datetime import datetime\n",
    "from pathlib import Path\n",
    "\n",
    "models_folder = './models'\n",
    "model_name = 'smallbert'\n",
    "\n",
    "Path(models_folder).mkdir(parents=True, exist_ok=True)\n",
    "filepath = f\"{models_folder}/{model_name}_{datetime.today().strftime('%m%d')}.pt\"\n",
    "torch.save(model.state_dict(), filepath)\n",
    "print(f'Model saved in {filepath}')"
   ],
   "metadata": {
    "collapsed": false,
    "pycharm": {
     "name": "#%%\n"
    }
   }
  },
  {
   "cell_type": "markdown",
   "source": [
    "## 3. Evaluation"
   ],
   "metadata": {
    "collapsed": false
   }
  },
  {
   "cell_type": "code",
   "execution_count": 47,
   "outputs": [
    {
     "name": "stdout",
     "output_type": "stream",
     "text": [
      "Loaded model at ./models/smallbert_0128.pt\n"
     ]
    }
   ],
   "source": [
    "filepath = models_folder + '/' + model_name + \"_0128.pt\"\n",
    "model.load_state_dict(torch.load(filepath))\n",
    "print(f'Loaded model at {filepath}')"
   ],
   "metadata": {
    "collapsed": false,
    "pycharm": {
     "name": "#%%\n"
    }
   }
  },
  {
   "cell_type": "code",
   "execution_count": 48,
   "outputs": [
    {
     "data": {
      "text/plain": "  0%|          | 0/21900 [00:00<?, ?it/s]",
      "application/vnd.jupyter.widget-view+json": {
       "version_major": 2,
       "version_minor": 0,
       "model_id": "7a37947eb003458abf0b08a12f6b24da"
      }
     },
     "metadata": {},
     "output_type": "display_data"
    }
   ],
   "source": [
    "indexes = []\n",
    "with torch.no_grad():\n",
    "    model.eval()\n",
    "    model.to(device)\n",
    "    ds = ds_val  # Change to ds_val for validation\n",
    "    for _, row in tqdm(ds.iterrows(), total=len(ds)):\n",
    "        # torch.cuda.empty_cache()\n",
    "        args = dict(\n",
    "            input_ids=row['input_ids'][None].to(device),\n",
    "            attention_mask=row['attention_mask'][None].to(device),\n",
    "            start_positions=row['start_positions'][None].to(device),\n",
    "            end_positions=row['end_positions'][None].to(device),\n",
    "            token_type_ids=row['token_type_ids'][None].to(device),\n",
    "        )\n",
    "        outputs = model(**args)\n",
    "\n",
    "        start_pred = torch.argmax(outputs['start_logits'], dim=1)\n",
    "        end_pred = torch.argmax(outputs['end_logits'], dim=1)\n",
    "        idx_start_pred = row['offset_mapping'][start_pred, 0]\n",
    "        idx_end_pred = row['offset_mapping'][end_pred, 1]\n",
    "        indexes.append({\n",
    "            'answer_start_pred': idx_start_pred.item(),\n",
    "            'answer_end_pred': idx_end_pred.item(),\n",
    "        })\n",
    "\n",
    "res = pd.concat((ds.reset_index(), pd.DataFrame(indexes)), axis=1)"
   ],
   "metadata": {
    "collapsed": false,
    "pycharm": {
     "name": "#%%\n"
    }
   }
  },
  {
   "cell_type": "code",
   "execution_count": 49,
   "outputs": [
    {
     "data": {
      "text/plain": "   index                        id                     title  \\\n0      2  5733be284776f41900661180  University_of_Notre_Dame   \n1      5  5733bf84d058e614000b61be  University_of_Notre_Dame   \n2     14  5733bed24776f4190066118c  University_of_Notre_Dame   \n3     15  5733a6424776f41900660f51  University_of_Notre_Dame   \n4     16  5733a6424776f41900660f4e  University_of_Notre_Dame   \n\n                                             context  \\\n0  Architecturally, the school has a Catholic cha...   \n1  As at most other universities, Notre Dame's st...   \n2  The university is the major seat of the Congre...   \n3  The College of Engineering was established in ...   \n4  The College of Engineering was established in ...   \n\n                                            question  \\\n0  The Basilica of the Sacred heart at Notre Dame...   \n1  When did the Scholastic Magazine of Notre dame...   \n2         Which prize did Frederick Buechner create?   \n3  How many BS level degrees are offered in the C...   \n4  In what year was the College of Engineering at...   \n\n                    answer_text  answer_start  answer_end  \\\n0             the Main Building           279         296   \n1                September 1876           248         262   \n2  Buechner Prize for Preaching           675         703   \n3                         eight           487         492   \n4                          1920            46          50   \n\n                                           input_ids  \\\n0  [tensor(101), tensor(1996), tensor(13546), ten...   \n1  [tensor(101), tensor(2043), tensor(2106), tens...   \n2  [tensor(101), tensor(2029), tensor(3396), tens...   \n3  [tensor(101), tensor(2129), tensor(2116), tens...   \n4  [tensor(101), tensor(1999), tensor(2054), tens...   \n\n                                      token_type_ids  \\\n0  [tensor(0, dtype=torch.int32), tensor(0, dtype...   \n1  [tensor(0, dtype=torch.int32), tensor(0, dtype...   \n2  [tensor(0, dtype=torch.int32), tensor(0, dtype...   \n3  [tensor(0, dtype=torch.int32), tensor(0, dtype...   \n4  [tensor(0, dtype=torch.int32), tensor(0, dtype...   \n\n                                      attention_mask start_positions  \\\n0  [tensor(1), tensor(1), tensor(1), tensor(1), t...      tensor(81)   \n1  [tensor(1), tensor(1), tensor(1), tensor(1), t...      tensor(63)   \n2  [tensor(1), tensor(1), tensor(1), tensor(1), t...     tensor(149)   \n3  [tensor(1), tensor(1), tensor(1), tensor(1), t...     tensor(107)   \n4  [tensor(1), tensor(1), tensor(1), tensor(1), t...      tensor(22)   \n\n  end_positions                                     offset_mapping  \\\n0    tensor(83)  [[0, 0], [0, 3], [4, 12], [13, 15], [16, 19], ...   \n1    tensor(64)  [[0, 0], [0, 4], [5, 8], [9, 12], [13, 23], [2...   \n2   tensor(154)  [[0, 0], [0, 5], [6, 11], [12, 15], [16, 25], ...   \n3   tensor(107)  [[0, 0], [0, 3], [4, 8], [9, 11], [12, 17], [1...   \n4    tensor(22)  [[0, 0], [0, 2], [3, 7], [8, 12], [13, 16], [1...   \n\n   answer_start_pred  answer_end_pred  \n0                369              379  \n1                248              262  \n2                694              703  \n3                487              492  \n4                 46               50  ",
      "text/html": "<div>\n<style scoped>\n    .dataframe tbody tr th:only-of-type {\n        vertical-align: middle;\n    }\n\n    .dataframe tbody tr th {\n        vertical-align: top;\n    }\n\n    .dataframe thead th {\n        text-align: right;\n    }\n</style>\n<table border=\"1\" class=\"dataframe\">\n  <thead>\n    <tr style=\"text-align: right;\">\n      <th></th>\n      <th>index</th>\n      <th>id</th>\n      <th>title</th>\n      <th>context</th>\n      <th>question</th>\n      <th>answer_text</th>\n      <th>answer_start</th>\n      <th>answer_end</th>\n      <th>input_ids</th>\n      <th>token_type_ids</th>\n      <th>attention_mask</th>\n      <th>start_positions</th>\n      <th>end_positions</th>\n      <th>offset_mapping</th>\n      <th>answer_start_pred</th>\n      <th>answer_end_pred</th>\n    </tr>\n  </thead>\n  <tbody>\n    <tr>\n      <th>0</th>\n      <td>2</td>\n      <td>5733be284776f41900661180</td>\n      <td>University_of_Notre_Dame</td>\n      <td>Architecturally, the school has a Catholic cha...</td>\n      <td>The Basilica of the Sacred heart at Notre Dame...</td>\n      <td>the Main Building</td>\n      <td>279</td>\n      <td>296</td>\n      <td>[tensor(101), tensor(1996), tensor(13546), ten...</td>\n      <td>[tensor(0, dtype=torch.int32), tensor(0, dtype...</td>\n      <td>[tensor(1), tensor(1), tensor(1), tensor(1), t...</td>\n      <td>tensor(81)</td>\n      <td>tensor(83)</td>\n      <td>[[0, 0], [0, 3], [4, 12], [13, 15], [16, 19], ...</td>\n      <td>369</td>\n      <td>379</td>\n    </tr>\n    <tr>\n      <th>1</th>\n      <td>5</td>\n      <td>5733bf84d058e614000b61be</td>\n      <td>University_of_Notre_Dame</td>\n      <td>As at most other universities, Notre Dame's st...</td>\n      <td>When did the Scholastic Magazine of Notre dame...</td>\n      <td>September 1876</td>\n      <td>248</td>\n      <td>262</td>\n      <td>[tensor(101), tensor(2043), tensor(2106), tens...</td>\n      <td>[tensor(0, dtype=torch.int32), tensor(0, dtype...</td>\n      <td>[tensor(1), tensor(1), tensor(1), tensor(1), t...</td>\n      <td>tensor(63)</td>\n      <td>tensor(64)</td>\n      <td>[[0, 0], [0, 4], [5, 8], [9, 12], [13, 23], [2...</td>\n      <td>248</td>\n      <td>262</td>\n    </tr>\n    <tr>\n      <th>2</th>\n      <td>14</td>\n      <td>5733bed24776f4190066118c</td>\n      <td>University_of_Notre_Dame</td>\n      <td>The university is the major seat of the Congre...</td>\n      <td>Which prize did Frederick Buechner create?</td>\n      <td>Buechner Prize for Preaching</td>\n      <td>675</td>\n      <td>703</td>\n      <td>[tensor(101), tensor(2029), tensor(3396), tens...</td>\n      <td>[tensor(0, dtype=torch.int32), tensor(0, dtype...</td>\n      <td>[tensor(1), tensor(1), tensor(1), tensor(1), t...</td>\n      <td>tensor(149)</td>\n      <td>tensor(154)</td>\n      <td>[[0, 0], [0, 5], [6, 11], [12, 15], [16, 25], ...</td>\n      <td>694</td>\n      <td>703</td>\n    </tr>\n    <tr>\n      <th>3</th>\n      <td>15</td>\n      <td>5733a6424776f41900660f51</td>\n      <td>University_of_Notre_Dame</td>\n      <td>The College of Engineering was established in ...</td>\n      <td>How many BS level degrees are offered in the C...</td>\n      <td>eight</td>\n      <td>487</td>\n      <td>492</td>\n      <td>[tensor(101), tensor(2129), tensor(2116), tens...</td>\n      <td>[tensor(0, dtype=torch.int32), tensor(0, dtype...</td>\n      <td>[tensor(1), tensor(1), tensor(1), tensor(1), t...</td>\n      <td>tensor(107)</td>\n      <td>tensor(107)</td>\n      <td>[[0, 0], [0, 3], [4, 8], [9, 11], [12, 17], [1...</td>\n      <td>487</td>\n      <td>492</td>\n    </tr>\n    <tr>\n      <th>4</th>\n      <td>16</td>\n      <td>5733a6424776f41900660f4e</td>\n      <td>University_of_Notre_Dame</td>\n      <td>The College of Engineering was established in ...</td>\n      <td>In what year was the College of Engineering at...</td>\n      <td>1920</td>\n      <td>46</td>\n      <td>50</td>\n      <td>[tensor(101), tensor(1999), tensor(2054), tens...</td>\n      <td>[tensor(0, dtype=torch.int32), tensor(0, dtype...</td>\n      <td>[tensor(1), tensor(1), tensor(1), tensor(1), t...</td>\n      <td>tensor(22)</td>\n      <td>tensor(22)</td>\n      <td>[[0, 0], [0, 2], [3, 7], [8, 12], [13, 16], [1...</td>\n      <td>46</td>\n      <td>50</td>\n    </tr>\n  </tbody>\n</table>\n</div>"
     },
     "execution_count": 49,
     "metadata": {},
     "output_type": "execute_result"
    }
   ],
   "source": [
    "res.head()"
   ],
   "metadata": {
    "collapsed": false,
    "pycharm": {
     "name": "#%%\n"
    }
   }
  },
  {
   "cell_type": "code",
   "execution_count": 50,
   "outputs": [
    {
     "name": "stdout",
     "output_type": "stream",
     "text": [
      "Accuracy 0.6250\n"
     ]
    }
   ],
   "source": [
    "accuracy_start = np.sum(res['answer_start_pred'] == res['answer_start']) / len(res)\n",
    "accuracy_end = np.sum(res['answer_end_pred'] == res['answer_end']) / len(res)\n",
    "accuracy_glob = (accuracy_start + accuracy_end) / 2\n",
    "print(f\"Accuracy {accuracy_glob:.4f}\")"
   ],
   "metadata": {
    "collapsed": false,
    "pycharm": {
     "name": "#%%\n"
    }
   }
  },
  {
   "cell_type": "code",
   "execution_count": 51,
   "outputs": [],
   "source": [
    "res['answer_text_pred'] = res.apply(lambda row: row['context'][row['answer_start_pred']:row['answer_end_pred']], axis=1)"
   ],
   "metadata": {
    "collapsed": false,
    "pycharm": {
     "name": "#%%\n"
    }
   }
  },
  {
   "cell_type": "code",
   "execution_count": 52,
   "outputs": [
    {
     "data": {
      "text/plain": "                                             question  \\\n0   The Basilica of the Sacred heart at Notre Dame...   \n1   When did the Scholastic Magazine of Notre dame...   \n2          Which prize did Frederick Buechner create?   \n3   How many BS level degrees are offered in the C...   \n4   In what year was the College of Engineering at...   \n..                                                ...   \n95  What singer did Beyonce record a song with for...   \n96     Where did Destiny's Child get their name from?   \n97   What was Destiny's Child's first major song hit?   \n98   What mental health issue did Beyonce go through?   \n99  What event occured after she was publicly crit...   \n\n                                              context  \\\n0   Architecturally, the school has a Catholic cha...   \n1   As at most other universities, Notre Dame's st...   \n2   The university is the major seat of the Congre...   \n3   The College of Engineering was established in ...   \n4   The College of Engineering was established in ...   \n..                                                ...   \n95  The group changed their name to Destiny's Chil...   \n96  The group changed their name to Destiny's Chil...   \n97  The group changed their name to Destiny's Chil...   \n98  LeToya Luckett and Roberson became unhappy wit...   \n99  LeToya Luckett and Roberson became unhappy wit...   \n\n                     answer_text answer_text_pred  \n0              the Main Building       the Grotto  \n1                 September 1876   September 1876  \n2   Buechner Prize for Preaching        Preaching  \n3                          eight            eight  \n4                           1920             1920  \n..                           ...              ...  \n95                   Marc Nelson      Marc Nelson  \n96               Book of Isaiah.   Book of Isaiah  \n97                    No, No, No      No, No, No\"  \n98                    depression       depression  \n99            boyfriend left her       depression  \n\n[100 rows x 4 columns]",
      "text/html": "<div>\n<style scoped>\n    .dataframe tbody tr th:only-of-type {\n        vertical-align: middle;\n    }\n\n    .dataframe tbody tr th {\n        vertical-align: top;\n    }\n\n    .dataframe thead th {\n        text-align: right;\n    }\n</style>\n<table border=\"1\" class=\"dataframe\">\n  <thead>\n    <tr style=\"text-align: right;\">\n      <th></th>\n      <th>question</th>\n      <th>context</th>\n      <th>answer_text</th>\n      <th>answer_text_pred</th>\n    </tr>\n  </thead>\n  <tbody>\n    <tr>\n      <th>0</th>\n      <td>The Basilica of the Sacred heart at Notre Dame...</td>\n      <td>Architecturally, the school has a Catholic cha...</td>\n      <td>the Main Building</td>\n      <td>the Grotto</td>\n    </tr>\n    <tr>\n      <th>1</th>\n      <td>When did the Scholastic Magazine of Notre dame...</td>\n      <td>As at most other universities, Notre Dame's st...</td>\n      <td>September 1876</td>\n      <td>September 1876</td>\n    </tr>\n    <tr>\n      <th>2</th>\n      <td>Which prize did Frederick Buechner create?</td>\n      <td>The university is the major seat of the Congre...</td>\n      <td>Buechner Prize for Preaching</td>\n      <td>Preaching</td>\n    </tr>\n    <tr>\n      <th>3</th>\n      <td>How many BS level degrees are offered in the C...</td>\n      <td>The College of Engineering was established in ...</td>\n      <td>eight</td>\n      <td>eight</td>\n    </tr>\n    <tr>\n      <th>4</th>\n      <td>In what year was the College of Engineering at...</td>\n      <td>The College of Engineering was established in ...</td>\n      <td>1920</td>\n      <td>1920</td>\n    </tr>\n    <tr>\n      <th>...</th>\n      <td>...</td>\n      <td>...</td>\n      <td>...</td>\n      <td>...</td>\n    </tr>\n    <tr>\n      <th>95</th>\n      <td>What singer did Beyonce record a song with for...</td>\n      <td>The group changed their name to Destiny's Chil...</td>\n      <td>Marc Nelson</td>\n      <td>Marc Nelson</td>\n    </tr>\n    <tr>\n      <th>96</th>\n      <td>Where did Destiny's Child get their name from?</td>\n      <td>The group changed their name to Destiny's Chil...</td>\n      <td>Book of Isaiah.</td>\n      <td>Book of Isaiah</td>\n    </tr>\n    <tr>\n      <th>97</th>\n      <td>What was Destiny's Child's first major song hit?</td>\n      <td>The group changed their name to Destiny's Chil...</td>\n      <td>No, No, No</td>\n      <td>No, No, No\"</td>\n    </tr>\n    <tr>\n      <th>98</th>\n      <td>What mental health issue did Beyonce go through?</td>\n      <td>LeToya Luckett and Roberson became unhappy wit...</td>\n      <td>depression</td>\n      <td>depression</td>\n    </tr>\n    <tr>\n      <th>99</th>\n      <td>What event occured after she was publicly crit...</td>\n      <td>LeToya Luckett and Roberson became unhappy wit...</td>\n      <td>boyfriend left her</td>\n      <td>depression</td>\n    </tr>\n  </tbody>\n</table>\n<p>100 rows × 4 columns</p>\n</div>"
     },
     "execution_count": 52,
     "metadata": {},
     "output_type": "execute_result"
    }
   ],
   "source": [
    "res[['question', 'context', 'answer_text', 'answer_text_pred']][:100]"
   ],
   "metadata": {
    "collapsed": false,
    "pycharm": {
     "name": "#%%\n"
    }
   }
  }
 ],
 "metadata": {
  "kernelspec": {
   "display_name": "Python 3",
   "language": "python",
   "name": "python3"
  },
  "language_info": {
   "codemirror_mode": {
    "name": "ipython",
    "version": 2
   },
   "file_extension": ".py",
   "mimetype": "text/x-python",
   "name": "python",
   "nbconvert_exporter": "python",
   "pygments_lexer": "ipython2",
   "version": "2.7.6"
  }
 },
 "nbformat": 4,
 "nbformat_minor": 0
}