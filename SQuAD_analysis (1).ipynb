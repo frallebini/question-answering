{
  "nbformat": 4,
  "nbformat_minor": 0,
  "metadata": {
    "colab": {
      "name": "SQuAD_analysis.ipynb",
      "provenance": [],
      "collapsed_sections": []
    },
    "kernelspec": {
      "name": "python3",
      "display_name": "Python 3"
    },
    "language_info": {
      "name": "python"
    }
  },
  "cells": [
    {
      "cell_type": "code",
      "source": [
        "import json\n",
        "with open('training_set.json') as json_file:\n",
        "    Data = json.load(json_file)"
      ],
      "metadata": {
        "id": "SOuy-dotc-1o"
      },
      "execution_count": 124,
      "outputs": []
    },
    {
      "cell_type": "markdown",
      "source": [
        "#Dataset analysis"
      ],
      "metadata": {
        "id": "Z05qoqC_99yN"
      }
    },
    {
      "cell_type": "code",
      "source": [
        "#FILE= DICTIONARY CON 2 KEYS\n",
        "Data.keys()"
      ],
      "metadata": {
        "colab": {
          "base_uri": "https://localhost:8080/"
        },
        "id": "uDLMq2KtydY4",
        "outputId": "51802f82-2f18-4d3a-9ad1-0b482b7817a6"
      },
      "execution_count": 125,
      "outputs": [
        {
          "output_type": "execute_result",
          "data": {
            "text/plain": [
              "dict_keys(['data', 'version'])"
            ]
          },
          "metadata": {},
          "execution_count": 125
        }
      ]
    },
    {
      "cell_type": "code",
      "source": [
        "#data: lista di dictionaries (samples)\n",
        "ds=Data.get('data')"
      ],
      "metadata": {
        "id": "UDY1bHdCpJIi"
      },
      "execution_count": 126,
      "outputs": []
    },
    {
      "cell_type": "code",
      "source": [
        "#keys di ogni dictionary (sample):\n",
        "ds[0].keys()"
      ],
      "metadata": {
        "colab": {
          "base_uri": "https://localhost:8080/"
        },
        "id": "yYUpMZdHtIxY",
        "outputId": "cab66068-8a3f-4b2f-a6be-188ca262813a"
      },
      "execution_count": 127,
      "outputs": [
        {
          "output_type": "execute_result",
          "data": {
            "text/plain": [
              "dict_keys(['title', 'paragraphs'])"
            ]
          },
          "metadata": {},
          "execution_count": 127
        }
      ]
    },
    {
      "cell_type": "code",
      "source": [
        "#title= stringa di testo\n",
        "ds[0].get('title')"
      ],
      "metadata": {
        "colab": {
          "base_uri": "https://localhost:8080/",
          "height": 35
        },
        "id": "2UTKnuJStm3q",
        "outputId": "40a5407d-8a15-4145-ddd8-d9517546ee12"
      },
      "execution_count": 128,
      "outputs": [
        {
          "output_type": "execute_result",
          "data": {
            "application/vnd.google.colaboratory.intrinsic+json": {
              "type": "string"
            },
            "text/plain": [
              "'University_of_Notre_Dame'"
            ]
          },
          "metadata": {},
          "execution_count": 128
        }
      ]
    },
    {
      "cell_type": "code",
      "source": [
        "#paragraphs= lista di dictionaries (paragrafi)\n",
        "ds[0].get('paragraphs')"
      ],
      "metadata": {
        "id": "aNE2JKDNtsBW"
      },
      "execution_count": null,
      "outputs": []
    },
    {
      "cell_type": "code",
      "source": [
        "#keys di ogni dictionary (paragrafo)\n",
        "ds[0].get('paragraphs')[0].keys()"
      ],
      "metadata": {
        "colab": {
          "base_uri": "https://localhost:8080/"
        },
        "id": "HsQZizoHt6RX",
        "outputId": "135cb325-7d38-498f-d84d-2b8f04d489ff"
      },
      "execution_count": 130,
      "outputs": [
        {
          "output_type": "execute_result",
          "data": {
            "text/plain": [
              "dict_keys(['context', 'qas'])"
            ]
          },
          "metadata": {},
          "execution_count": 130
        }
      ]
    },
    {
      "cell_type": "code",
      "source": [
        "#context= testo di ogni paragrafo\n",
        "ds[0].get('paragraphs')[0].get('context')"
      ],
      "metadata": {
        "colab": {
          "base_uri": "https://localhost:8080/",
          "height": 105
        },
        "id": "mWQ53xwusMIT",
        "outputId": "1db48a7f-8993-4f51-9a72-de2d33f7e1c1"
      },
      "execution_count": 131,
      "outputs": [
        {
          "output_type": "execute_result",
          "data": {
            "application/vnd.google.colaboratory.intrinsic+json": {
              "type": "string"
            },
            "text/plain": [
              "'Architecturally, the school has a Catholic character. Atop the Main Building\\'s gold dome is a golden statue of the Virgin Mary. Immediately in front of the Main Building and facing it, is a copper statue of Christ with arms upraised with the legend \"Venite Ad Me Omnes\". Next to the Main Building is the Basilica of the Sacred Heart. Immediately behind the basilica is the Grotto, a Marian place of prayer and reflection. It is a replica of the grotto at Lourdes, France where the Virgin Mary reputedly appeared to Saint Bernadette Soubirous in 1858. At the end of the main drive (and in a direct line that connects through 3 statues and the Gold Dome), is a simple, modern stone statue of Mary.'"
            ]
          },
          "metadata": {},
          "execution_count": 131
        }
      ]
    },
    {
      "cell_type": "code",
      "source": [
        "#qas= lista di dictionaries (domande)\n",
        "ds[0].get('paragraphs')[0].get('qas')"
      ],
      "metadata": {
        "colab": {
          "base_uri": "https://localhost:8080/"
        },
        "id": "1kZI-686veFw",
        "outputId": "62d8e4e9-3b9f-446e-c9cd-4351ac4f1b79"
      },
      "execution_count": 132,
      "outputs": [
        {
          "output_type": "execute_result",
          "data": {
            "text/plain": [
              "[{'answers': [{'answer_start': 515, 'text': 'Saint Bernadette Soubirous'}],\n",
              "  'id': '5733be284776f41900661182',\n",
              "  'question': 'To whom did the Virgin Mary allegedly appear in 1858 in Lourdes France?'},\n",
              " {'answers': [{'answer_start': 188, 'text': 'a copper statue of Christ'}],\n",
              "  'id': '5733be284776f4190066117f',\n",
              "  'question': 'What is in front of the Notre Dame Main Building?'},\n",
              " {'answers': [{'answer_start': 279, 'text': 'the Main Building'}],\n",
              "  'id': '5733be284776f41900661180',\n",
              "  'question': 'The Basilica of the Sacred heart at Notre Dame is beside to which structure?'},\n",
              " {'answers': [{'answer_start': 381,\n",
              "    'text': 'a Marian place of prayer and reflection'}],\n",
              "  'id': '5733be284776f41900661181',\n",
              "  'question': 'What is the Grotto at Notre Dame?'},\n",
              " {'answers': [{'answer_start': 92,\n",
              "    'text': 'a golden statue of the Virgin Mary'}],\n",
              "  'id': '5733be284776f4190066117e',\n",
              "  'question': 'What sits on top of the Main Building at Notre Dame?'}]"
            ]
          },
          "metadata": {},
          "execution_count": 132
        }
      ]
    },
    {
      "cell_type": "code",
      "source": [
        "#keys di ogni dictionay (domanda)\n",
        "ds[0].get('paragraphs')[0].get('qas')[0].keys()"
      ],
      "metadata": {
        "colab": {
          "base_uri": "https://localhost:8080/"
        },
        "id": "gcO7LFrSvwPh",
        "outputId": "0ec8fef4-5c22-4e07-cfc5-eac9e9af35fa"
      },
      "execution_count": 133,
      "outputs": [
        {
          "output_type": "execute_result",
          "data": {
            "text/plain": [
              "dict_keys(['answers', 'question', 'id'])"
            ]
          },
          "metadata": {},
          "execution_count": 133
        }
      ]
    },
    {
      "cell_type": "code",
      "source": [
        "#answers= list of dictionaries (risposte)\n",
        "ds[0].get('paragraphs')[0].get('qas')[0].get('answers')"
      ],
      "metadata": {
        "colab": {
          "base_uri": "https://localhost:8080/"
        },
        "id": "rSDnDJ7LwG7F",
        "outputId": "e92c2dd7-c093-4f65-a033-2e6e3bc5eb25"
      },
      "execution_count": 134,
      "outputs": [
        {
          "output_type": "execute_result",
          "data": {
            "text/plain": [
              "[{'answer_start': 515, 'text': 'Saint Bernadette Soubirous'}]"
            ]
          },
          "metadata": {},
          "execution_count": 134
        }
      ]
    },
    {
      "cell_type": "code",
      "source": [
        "#id= intero\n",
        "ds[0].get('paragraphs')[0].get('qas')[0].get('id')"
      ],
      "metadata": {
        "colab": {
          "base_uri": "https://localhost:8080/",
          "height": 35
        },
        "id": "icadzYDnxmKO",
        "outputId": "6233269f-0eee-4f90-f900-8681a6ef199b"
      },
      "execution_count": 135,
      "outputs": [
        {
          "output_type": "execute_result",
          "data": {
            "application/vnd.google.colaboratory.intrinsic+json": {
              "type": "string"
            },
            "text/plain": [
              "'5733be284776f41900661182'"
            ]
          },
          "metadata": {},
          "execution_count": 135
        }
      ]
    },
    {
      "cell_type": "code",
      "source": [
        "#question=testo della domanda\n",
        "ds[0].get('paragraphs')[0].get('qas')[0].get('question')"
      ],
      "metadata": {
        "colab": {
          "base_uri": "https://localhost:8080/",
          "height": 35
        },
        "id": "YooXRwTgzInV",
        "outputId": "432493f0-3101-43bd-87ae-63f425bfdc72"
      },
      "execution_count": 136,
      "outputs": [
        {
          "output_type": "execute_result",
          "data": {
            "application/vnd.google.colaboratory.intrinsic+json": {
              "type": "string"
            },
            "text/plain": [
              "'To whom did the Virgin Mary allegedly appear in 1858 in Lourdes France?'"
            ]
          },
          "metadata": {},
          "execution_count": 136
        }
      ]
    },
    {
      "cell_type": "markdown",
      "source": [
        "#Quick summary"
      ],
      "metadata": {
        "id": "EBRH3qoS-DzO"
      }
    },
    {
      "cell_type": "code",
      "source": [
        "print('The training dataset contains:', len(ds), 'samples.\\n')\n",
        "print('Each sample is a dictionary containing a title and a list of paragraphs.\\n')\n",
        "a=dict() #dictionary per salvare il numero di domande e risposte totali relative ad ogni sample\n",
        "for sample_number in range(len(ds)):\n",
        "  n_of_questions=0\n",
        "  n_of_answers=0\n",
        "  #per ogni paragrafo conta il numero di domande=lunghezza della lista 'qas' \n",
        "  for par_number in range(len(ds[sample_number].get('paragraphs'))):\n",
        "    n_of_questions+=len(ds[sample_number].get('paragraphs')[par_number].get('qas'))\n",
        "    #per ogni domanda conta il numero di risposte=lunghezza lista 'answers'\n",
        "    for question_number in range(len(ds[sample_number].get('paragraphs')[par_number].get('qas'))):\n",
        "      n_of_answers+=len(ds[sample_number].get('paragraphs')[par_number].get('qas')[question_number].get('answers'))\n",
        "  print('Sample:', sample_number, '\\tTitle:', ds[sample_number].get('title'), '\\tNumber of paragraphs:', len(ds[sample_number].get('paragraphs')),\n",
        "        '\\tTotal number of questions:', n_of_questions, '\\tTotal number of answers:', n_of_answers,)\n",
        "  a[sample_number]=[n_of_answers, n_of_questions]\n",
        "\n"
      ],
      "metadata": {
        "id": "Ev_nWVpizTIK"
      },
      "execution_count": null,
      "outputs": []
    },
    {
      "cell_type": "code",
      "source": [
        "s=0 \n",
        "for el in list(a.values()):\n",
        "  if el[0]!=el[1]:\n",
        "    s+=1\n",
        "print('Number of questions with more than one answer:', s)"
      ],
      "metadata": {
        "colab": {
          "base_uri": "https://localhost:8080/"
        },
        "id": "PlnV1lnc5qUm",
        "outputId": "d7eaa5f6-ca34-4c76-b768-8090e4142ef5"
      },
      "execution_count": 138,
      "outputs": [
        {
          "output_type": "stream",
          "name": "stdout",
          "text": [
            "Number of questions with more than one answer: 0\n"
          ]
        }
      ]
    }
  ]
}